{
  "nbformat": 4,
  "nbformat_minor": 0,
  "metadata": {
    "colab": {
      "provenance": [],
      "collapsed_sections": []
    },
    "kernelspec": {
      "name": "python3",
      "display_name": "Python 3"
    },
    "language_info": {
      "name": "python"
    }
  },
  "cells": [
    {
      "cell_type": "markdown",
      "source": [
        "**A2: Python exercises**\n",
        "\n",
        "---\n",
        "\n",
        "Name: Miriam Coral Cera Ibarra \n",
        "\n",
        "Student number: 1902358\n",
        "\n",
        "Class time: Thursdays N4"
      ],
      "metadata": {
        "id": "7K9-PQSMVZMk"
      }
    },
    {
      "cell_type": "markdown",
      "source": [
        "**Exercise 1**. Create a python script where the user is going to be asked for the name. After that, the program will greet the user with the given name. Only exception: the script will not greet the user if the given name is \"Ana\", \"John\" or \"Peter\"."
      ],
      "metadata": {
        "id": "pGCwj-bIXGJY"
      }
    },
    {
      "cell_type": "code",
      "source": [
        "a = input ('Whats yout name? ' )\n",
        "ex =['Ana', 'Peter', 'John']\n",
        "\n",
        "if a in ex:\n",
        "  print('Exception')\n",
        "else:\n",
        "  print(\"Hello \" + a)"
      ],
      "metadata": {
        "colab": {
          "base_uri": "https://localhost:8080/"
        },
        "id": "7wdS9EGzfJEN",
        "outputId": "36c0f56c-964c-468e-a6b4-ca2db1bb1d48"
      },
      "execution_count": 138,
      "outputs": [
        {
          "output_type": "stream",
          "name": "stdout",
          "text": [
            "Whats yout name? Miriam\n",
            "Hello Miriam\n"
          ]
        }
      ]
    },
    {
      "cell_type": "code",
      "source": [
        "#Other option could be:\n",
        "a = input ('Whats yout name? ' )\n",
        "if (a == 'Ana' or a == 'John' or a ==  'Peter'): \n",
        "   print (\"Exception\")\n",
        "else :\n",
        "    print (\"Hello \" + a)"
      ],
      "metadata": {
        "colab": {
          "base_uri": "https://localhost:8080/"
        },
        "id": "Hjfmp5Re2Omg",
        "outputId": "bbd3dd96-bb7d-415b-abe8-2b2c6be17211"
      },
      "execution_count": 143,
      "outputs": [
        {
          "output_type": "stream",
          "name": "stdout",
          "text": [
            "Whats yout name? Ana\n",
            "Exception\n"
          ]
        }
      ]
    },
    {
      "cell_type": "markdown",
      "source": [
        "**Exercise 2**.Create a function in a pyhton script that returns (print) the last element of a given list, reverts the order of the list and finally returns (print) the reverted list. "
      ],
      "metadata": {
        "id": "ud4KWlyhhnbU"
      }
    },
    {
      "cell_type": "code",
      "source": [
        "list= [\"apple\", \"banana\", \"cherry\", \"apple\", \"cherry\"]\n",
        "def reverlist(list):\n",
        "  print(\"Last element of the list: \" + list[-1])\n",
        "  i = len(list) - 1\n",
        "  rlist=[]\n",
        "  while(i >= 0):\n",
        "    rlist.append(list[i])\n",
        "    i = i - 1\n",
        "  print(\"Reverted list:\", rlist)\n",
        "\n",
        "reverlist(list)"
      ],
      "metadata": {
        "colab": {
          "base_uri": "https://localhost:8080/"
        },
        "id": "hBcn_lTDiMVa",
        "outputId": "02b0852d-b507-4b5b-873b-154f9c668125"
      },
      "execution_count": null,
      "outputs": [
        {
          "output_type": "stream",
          "name": "stdout",
          "text": [
            "Last element of the list: cherry\n",
            "Reverted list: ['cherry', 'apple', 'cherry', 'banana', 'apple']\n"
          ]
        }
      ]
    },
    {
      "cell_type": "markdown",
      "source": [
        "**Exercise 3**. Create a function in a python script that takes a list of strings as input and then it prints, line by line, the whole list in a rectangular shape"
      ],
      "metadata": {
        "id": "f5uDnOR4nUmz"
      }
    },
    {
      "cell_type": "code",
      "source": [
        "list2 = [\"Hi\", \"my\", \"name\", \"is\", \"Miriam\", \"Cera\"]\n",
        "def rectangle(list2):\n",
        " print (\"************\")\n",
        " for x in list2:\n",
        "   c= len(x)\n",
        "   y= 10-c\n",
        "   while len(x)<10:\n",
        "     print(\"*\"+ x + (\" \"*y)+ \"*\")\n",
        "     break\n",
        " print (\"************\")\n",
        "rectangle(list2)"
      ],
      "metadata": {
        "colab": {
          "base_uri": "https://localhost:8080/"
        },
        "id": "ftIfKBe7nwA6",
        "outputId": "95c11220-39ae-445e-fe40-f92a6f0debd8"
      },
      "execution_count": 205,
      "outputs": [
        {
          "output_type": "stream",
          "name": "stdout",
          "text": [
            "************\n",
            "*Hi        *\n",
            "*my        *\n",
            "*name      *\n",
            "*is        *\n",
            "*Miriam    *\n",
            "*Cera      *\n",
            "************\n"
          ]
        }
      ]
    }
  ]
}